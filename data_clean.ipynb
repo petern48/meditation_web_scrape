{
 "cells": [
  {
   "cell_type": "markdown",
   "metadata": {},
   "source": [
    "### Data Cleaning"
   ]
  },
  {
   "cell_type": "code",
   "execution_count": null,
   "metadata": {},
   "outputs": [],
   "source": [
    "# !pip install pandas\n",
    "# https://huggingface.co/oliverguhr/fullstop-punctuation-multilang-large\n",
    "# !pip install deepmultilingualpunctuation protobuf\n",
    "# !pip install nltk"
   ]
  },
  {
   "cell_type": "code",
   "execution_count": null,
   "metadata": {},
   "outputs": [],
   "source": [
    "import pandas as pd\n",
    "import re\n",
    "import csv\n",
    "from deepmultilingualpunctuation import PunctuationModel\n",
    "import nltk\n",
    "import matplotlib.pyplot as plt"
   ]
  },
  {
   "cell_type": "markdown",
   "metadata": {},
   "source": [
    "### Data Cleaning"
   ]
  },
  {
   "cell_type": "code",
   "execution_count": 43,
   "metadata": {},
   "outputs": [],
   "source": [
    "# INSIGHT_DATA_FILE = 'insight-transcripts-data.csv'\n",
    "INSIGHT_DATA_FILE = 'insight-transcripts-data-cleaned.csv'\n",
    "YOUTUBE_DATA_FILE = 'yt-transcripts-data.csv'"
   ]
  },
  {
   "cell_type": "code",
   "execution_count": null,
   "metadata": {},
   "outputs": [],
   "source": [
    "model = PunctuationModel()"
   ]
  },
  {
   "cell_type": "code",
   "execution_count": 42,
   "metadata": {},
   "outputs": [],
   "source": [
    "# Common intros to remove\n",
    "PHRASES_TO_REMOVE = [\n",
    "    r'.*welcome to carries conscious living are you ready to',\n",
    "    r'.*on the 7th of this month are you ready to',\n",
    "    r'.*are (you|we) ready to meditate (with|the)',\n",
    "    r'.*join the patreon the links are in the description',\n",
    "    r'.*if you are returning welcome back here at the',\n",
    "    r\".*I'm Sara Raymond here at the mindful movement\",\n",
    "    r'.*your host Brian Scott',\n",
    "    r'.*create your free Mindvalley account today at mindvalley.com'\n",
    "]\n",
    "\n",
    "def data_clean(csv_file_path):\n",
    "    cleaned_file_name = csv_file_path.rstrip('.csv')\n",
    "    cleaned_file_name += '-cleaned.csv'\n",
    "\n",
    "    df = pd.read_csv(csv_file_path, encoding='utf8')\n",
    "    # df.dropna()\n",
    "\n",
    "    with open(cleaned_file_name, 'a', encoding='utf8', newline='') as csvf:\n",
    "        writer = csv.writer(csvf)\n",
    "        # if csvf empty\n",
    "        # writer.writerow(['Meditation_Type','URL','Script'])\n",
    "        for idx, item in df.iterrows():\n",
    "            s = item['Script']\n",
    "            s = re.sub('\\[.*?\\]', ' ', s)  # Remove content inside square brackets\n",
    "            s = re.sub('\\(.*?\\)', ' ', s)  # Remove contents inside square brackets\n",
    "            s = re.sub('\\s+',' ', s)  # Replace consecutive whitespace with a single space\n",
    "\n",
    "            # Remove specific phrases  (FOR youtube data)\n",
    "            s = re.sub('so( so)+', 'so', s)  # Remove consecutive 'so'\n",
    "            s = re.sub('foreign( foreign)+', 'foreign', s)  # Remove consecutive 'foreign' \n",
    "            s = re.sub('you( you)+', 'you', s)  # Remove consecutive 'you'\n",
    "\n",
    "            # Remove the unrelated introductions\n",
    "            s = re.sub(\".*let's (begin|start)\", \"let's start\", s)\n",
    "            s = re.sub(\".*(begin|start) by\", 'start by', s)\n",
    "            for phrase in PHRASES_TO_REMOVE:\n",
    "                s = re.sub(phrase, '', s)\n",
    "\n",
    "            # Add Punctuation\n",
    "            s = model.restore_punctuation(s)  # Takes very long time\n",
    "\n",
    "            script = s\n",
    "            url = item['URL']\n",
    "            med_type = item['Meditation_Type']\n",
    "            writer.writerow([med_type, url, script])\n",
    "            print(f\"Done Line {idx + 2}\")  # Account for 0 index and the header line\n",
    "\n",
    "    print(f'Written cleaned data to {cleaned_file_name}')"
   ]
  },
  {
   "cell_type": "code",
   "execution_count": null,
   "metadata": {},
   "outputs": [],
   "source": [
    "data_clean(YOUTUBE_DATA_FILE)  # ADD -cleaned file??m"
   ]
  },
  {
   "cell_type": "code",
   "execution_count": null,
   "metadata": {},
   "outputs": [],
   "source": [
    "data_clean(INSIGHT_DATA_FILE)"
   ]
  },
  {
   "cell_type": "code",
   "execution_count": null,
   "metadata": {},
   "outputs": [],
   "source": [
    "# After adding punctuation, grep for lines that don't end with period\n",
    "\n",
    "# Remove all instances of . you. and you\" using find and replace (regex)\n",
    "# Do the same with foreign  (also very common in youtube scripts)\n",
    "# (youtube transcripts have a bunch of random you.)"
   ]
  },
  {
   "cell_type": "markdown",
   "metadata": {},
   "source": [
    "#### Created new file `med-transcript-dataset.csv` with the insight timer data followed by the youtube data"
   ]
  },
  {
   "cell_type": "markdown",
   "metadata": {},
   "source": [
    "### Add special tokens to dataset"
   ]
  },
  {
   "cell_type": "code",
   "execution_count": null,
   "metadata": {},
   "outputs": [],
   "source": [
    "INPUT_DATA_FILE = 'med-transcript-dataset.csv'\n",
    "TOKENIZED_DATA_FILE = 'tokenized-dataset.csv'"
   ]
  },
  {
   "cell_type": "code",
   "execution_count": null,
   "metadata": {},
   "outputs": [],
   "source": [
    "import pandas as pd\n",
    "import math\n",
    "import csv\n",
    "\n",
    "df = pd.read_csv(INPUT_DATA_FILE, encoding=\"utf8\")  # encoding=\"ISO-8859-1\"  Original\n",
    "# df = df.dropna()  # DO NOT dropna() because insight timer rows have nan urls\n",
    "# Empty file\n",
    "with open(TOKENIZED_DATA_FILE, 'w') as f:\n",
    "    f.truncate(0)\n",
    "\n",
    "with open(TOKENIZED_DATA_FILE, 'w') as f:\n",
    "    writer = csv.writer(f)\n",
    "    writer.writerow(['Meditation_Type','URL','Script'])\n",
    "    for idx, item in df.iterrows():\n",
    "        script = item['Script']\n",
    "        url = item['URL']\n",
    "        med_type = item['Meditation_Type']\n",
    "\n",
    "        # ADD SPECIAL TOKEN indicating the meditation type\n",
    "        if type(med_type)==str:\n",
    "            special_token = f'[{med_type} MEDITATION]'.upper()\n",
    "        # If nan values (type float), then don't add token\n",
    "        else:\n",
    "            special_token = \"\"\n",
    "\n",
    "        script = f'{special_token} {script}'\n",
    "\n",
    "        writer.writerow([med_type, url, script])\n",
    "\n",
    "print(f\"Written tokenized data file to {TOKENIZED_DATA_FILE}\")"
   ]
  },
  {
   "cell_type": "markdown",
   "metadata": {},
   "source": [
    "### Analyze Common Words"
   ]
  },
  {
   "cell_type": "markdown",
   "metadata": {},
   "source": [
    "Analyze what the most common words to find phrases we should remove"
   ]
  },
  {
   "cell_type": "code",
   "execution_count": null,
   "metadata": {},
   "outputs": [],
   "source": [
    "# Download the following nltk data if not done already\n",
    "# nltk.download('punkt')\n",
    "# nltk.download('stopwords')"
   ]
  },
  {
   "cell_type": "code",
   "execution_count": 64,
   "metadata": {},
   "outputs": [],
   "source": [
    "import string\n",
    "import pandas as pd"
   ]
  },
  {
   "cell_type": "code",
   "execution_count": 73,
   "metadata": {},
   "outputs": [],
   "source": [
    "def get_freq_dist(csv_file_path):\n",
    "    df = pd.read_csv(csv_file_path, encoding='utf8')\n",
    "    script = ''\n",
    "    # Only consider text from the Scripts\n",
    "    for idx, item in df.iterrows():\n",
    "        s = item['Script']\n",
    "        script += s.lower()  # lower case everything\n",
    "    print('Loaded text')\n",
    "\n",
    "    text = ''\n",
    "    # # Remove punctuation marks\n",
    "    # for char in script:\n",
    "    #     for j in list(string.punctuation):\n",
    "    #         char = char.replace(j,'').lower()\n",
    "    #     text += char\n",
    "    # print('Removed punctuation marks')\n",
    "\n",
    "    # Use to Stem text (reduce words to their base form)\n",
    "    ps = nltk.stem.PorterStemmer()\n",
    "\n",
    "    words = nltk.tokenize.word_tokenize(text)\n",
    "    # all_word_dist = nltk.FreqDist(w.lower() for w in all_words)  # Frequency Distribution\n",
    "\n",
    "    stopwords = nltk.corpus.stopwords.words('english')\n",
    "    no_stopwords_dist = nltk.FreqDist(ps.stem(w) for w in words if w.isalpha() and w not in stopwords) # and w not in EXPECTED_WORDS)\n",
    "    print('Got Frequency Distribution')\n",
    "    return no_stopwords_dist"
   ]
  },
  {
   "cell_type": "code",
   "execution_count": 74,
   "metadata": {},
   "outputs": [
    {
     "name": "stdout",
     "output_type": "stream",
     "text": [
      "Loaded text\n",
      "Removed punctuation marks\n",
      "Got Frequency Distribution\n"
     ]
    }
   ],
   "source": [
    "csv_file_path = 'med-transcript-dataset.csv'\n",
    "no_stopwords_dist = get_freq_dist(csv_file_path)"
   ]
  },
  {
   "cell_type": "code",
   "execution_count": 77,
   "metadata": {},
   "outputs": [
    {
     "name": "stdout",
     "output_type": "stream",
     "text": [
      "{'feel': 57874, 'breath': 53324, 'bodi': 44165, 'go': 39566, 'let': 33774, 'mind': 30074, 'relax': 28185, 'love': 28117, 'take': 25821, 'back': 23814, 'life': 23319, 'right': 22191, 'time': 21745, 'like': 21073, 'energi': 20752, 'come': 20659, 'moment': 20163, 'one': 19708, 'know': 19581, 'allow': 18458, 'see': 18172, 'way': 18017, 'your': 16696, 'awar': 16086, 'notic': 15677, 'thought': 14813, 'need': 14556, 'get': 14487, 'thank': 14369, 'want': 14258}\n"
     ]
    }
   ],
   "source": [
    "EXTRA_STOP_WORDS = ['like', 'come', 'one', 'know']\n",
    "\n",
    "common_words_no_stops = no_stopwords_dist.most_common(30)#.keys()\n",
    "common_words_no_stops = dict(common_words_no_stops)\n",
    "\n",
    "# Remove common words that have no meaning\n",
    "# final_common_words = \n",
    "print(common_words_no_stops)"
   ]
  },
  {
   "cell_type": "code",
   "execution_count": 78,
   "metadata": {},
   "outputs": [
    {
     "data": {
      "text/plain": [
       "<Axes: >"
      ]
     },
     "execution_count": 78,
     "metadata": {},
     "output_type": "execute_result"
    },
    {
     "data": {
      "image/png": "[encoded data removed]",
      "text/plain": [
       "<Figure size 640x480 with 1 Axes>"
      ]
     },
     "metadata": {},
     "output_type": "display_data"
    },
    {
     "ename": "",
     "evalue": "",
     "output_type": "error",
     "traceback": [
      "\u001b[1;31mThe Kernel crashed while executing code in the the current cell or a previous cell. Please review the code in the cell(s) to identify a possible cause of the failure. Click <a href='https://aka.ms/vscodeJupyterKernelCrash'>here</a> for more info. View Jupyter <a href='command:jupyter.viewOutput'>log</a> for further details."
     ]
    }
   ],
   "source": [
    "# plot\n",
    "df = pd.DataFrame(\n",
    "    {'Frequency Distribution of Words':list(common_words_no_stops.values())},\n",
    "    index=list(common_words_no_stops.keys())\n",
    ")\n",
    "df.plot(kind='bar')\n",
    "# plt.hist(common_words_no_stops)\n",
    "# plt.bar(common_words_no_stops.keys(), common_words_no_stops.values())"
   ]
  },
  {
   "cell_type": "markdown",
   "metadata": {},
   "source": [
    "##### Let's see how much of each type of script we have"
   ]
  },
  {
   "cell_type": "code",
   "execution_count": 17,
   "metadata": {},
   "outputs": [
    {
     "data": {
      "text/plain": [
       "Meditation_Type\n",
       "visualization    1729\n",
       "movement          964\n",
       "body-scan         854\n",
       "focused           839\n",
       "reflection        310\n",
       "Name: count, dtype: int64"
      ]
     },
     "execution_count": 17,
     "metadata": {},
     "output_type": "execute_result"
    }
   ],
   "source": [
    "df = pd.read_csv('med-transcript-dataset.csv')\n",
    "med_type_col = df['Meditation_Type']\n",
    "med_type_col.value_counts()"
   ]
  },
  {
   "cell_type": "code",
   "execution_count": null,
   "metadata": {},
   "outputs": [],
   "source": []
  }
 ],
 "metadata": {
  "kernelspec": {
   "display_name": "web_scrape",
   "language": "python",
   "name": "python3"
  },
  "language_info": {
   "codemirror_mode": {
    "name": "ipython",
    "version": 3
   },
   "file_extension": ".py",
   "mimetype": "text/x-python",
   "name": "python",
   "nbconvert_exporter": "python",
   "pygments_lexer": "ipython3",
   "version": "3.11.4"
  },
  "orig_nbformat": 4
 },
 "nbformat": 4,
 "nbformat_minor": 2
}
