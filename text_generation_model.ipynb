{
 "cells": [
  {
   "cell_type": "markdown",
   "metadata": {},
   "source": [
    "#### This notebook can be used to run the LLM I finetuned using this data.\n",
    "The model is uploaded on Hugging Face at [petern48/gpt2-meditation](https://huggingface.co/petern48/gpt2-meditation)  \n",
    "At the bottom, you can compare example outputs using our model vs the base model"
   ]
  },
  {
   "cell_type": "code",
   "execution_count": null,
   "metadata": {},
   "outputs": [],
   "source": [
    "# !pip install transformers accelerate\n",
    "# !pip install torch"
   ]
  },
  {
   "cell_type": "code",
   "execution_count": null,
   "metadata": {},
   "outputs": [],
   "source": [
    "from transformers import AutoTokenizer, AutoModelForCausalLM\n",
    "import torch"
   ]
  },
  {
   "cell_type": "code",
   "execution_count": 9,
   "metadata": {},
   "outputs": [
    {
     "name": "stdout",
     "output_type": "stream",
     "text": [
      "petern48/gpt2-meditation Model Loaded\n"
     ]
    }
   ],
   "source": [
    "finetuned_model_name = 'petern48/gpt2-meditation'\n",
    "model = AutoModelForCausalLM.from_pretrained(finetuned_model_name)\n",
    "tokenizer = AutoTokenizer.from_pretrained(finetuned_model_name)  # , trust_remote_code=True\n",
    "\n",
    "device = torch.device('cuda' if torch.cuda.is_available() else 'cpu')\n",
    "\n",
    "model.to(device)\n",
    "print(f'{finetuned_model_name} Model Loaded')"
   ]
  },
  {
   "cell_type": "code",
   "execution_count": 15,
   "metadata": {},
   "outputs": [
    {
     "name": "stderr",
     "output_type": "stream",
     "text": [
      "The attention mask and the pad token id were not set. As a consequence, you may observe unexpected behavior. Please pass your input's `attention_mask` to obtain reliable results.\n",
      "Setting `pad_token_id` to `eos_token_id`:50256 for open-end generation.\n"
     ]
    },
    {
     "name": "stdout",
     "output_type": "stream",
     "text": [
      " \n",
      "Welcome to this visualization meditation script where you will imagine yourself at a calm peaceful beach. Notice your body as you breathe. now imagine yourself a long-handled net of seawater that is rising out of the sea. Take notice of your body. how is it different from a normal human? Imagine yourself breathing in the air. notice how the water around your body reflects the sunlight, reflecting how warm and refreshing the air feels. Notice your thoughts and emotions. Where are you right now? If you are standing, you will feel the sensation of being firmly rooted in the sand. If you're walking, you'll feel the same. The only difference is you can see the whole picture. In the distance, a blue cloud forms. it shows the horizon, the ocean, full of sand. The first thought you have when you start to imagine this scene is that you are making a fool. Yes, You are fool. This is right. Everything you were born with in childhood was a failure, a failure at some point. You weren't good enough. Everything you went through in school was an embarrassment. that's why you were born poor. This image won't hold any power. You start to doubt yourself completely, You start to see where all this bad energy lies. Take a deep breath in. watch how the water around your body is reflecting that reflected back to you. Notice your emotions. Should your emotions feel angry, tense, angry? No, they are not. Only yourself can deal with anger. Take another deep breath in and as you exhale, this discards what was earlier an image and never gets used in your life. When anger is removed from your life, you are able to start your day anew. Now keep breathing in the fresh water of the blue cloud. Breathe in that blue water. think of your life. it's not your day, your career, your home life, life or school. What you see on the horizon is your life. If you become angry, sharp teeth, clenched teeth, it's okay. Let the water around your body come down, collecting. let the water create a vacuum in the rest of your body. Now keep breathing in the clean water of blue cloud. let the water get out more and more polluted by the rain and the wind. Imagine yourself walking through a beautiful forest, barefoot on a beautiful day in this forest. You see rays of light shining through and through your. You can feel the crisp air as it leaves the forest. Perhaps you see\n"
     ]
    }
   ],
   "source": [
    "model.eval()\n",
    "\n",
    "med_type = 'visualization'\n",
    "\n",
    "prompt = f\"\"\"<|startoftext|> [{med_type.upper()} MEDITATION]\n",
    "Welcome to this {med_type} meditation script where you will imagine yourself at a calm peaceful beach.\"\"\" # is designed for preparing you for sleep. Start by flexing and relaxing your\"\"\"\n",
    "# Welcome to this body scan meditation script is designed for preparing you for sleep. Start by flexing and relaxing your\n",
    "\n",
    "generated = torch.tensor(tokenizer.encode(prompt)).unsqueeze(0)\n",
    "generated = generated.to(device)\n",
    "\n",
    "# print(generated)  # tensor\n",
    "\n",
    "sample_outputs = model.generate(\n",
    "                                generated,\n",
    "                                # bos_token_id=random.randint(1,30000),\n",
    "                                do_sample=True,\n",
    "                                top_k=1000,\n",
    "                                max_length = 512,\n",
    "                                top_p=0.95,\n",
    "                                num_return_sequences=1,\n",
    "                                )\n",
    "response = tokenizer.decode(sample_outputs[0], skip_special_tokens=True)\n",
    "print(response)"
   ]
  },
  {
   "cell_type": "markdown",
   "metadata": {},
   "source": [
    "##### Here's a simple way to test the base model if you would like to try it yourself"
   ]
  },
  {
   "cell_type": "code",
   "execution_count": 14,
   "metadata": {},
   "outputs": [
    {
     "name": "stderr",
     "output_type": "stream",
     "text": [
      "Setting `pad_token_id` to `eos_token_id`:50256 for open-end generation.\n"
     ]
    },
    {
     "data": {
      "text/plain": [
       "'<|startoftext|> [VISUALIZATION MEDITATION]\\nWelcome to this visualization meditation script where you will imagine yourself at a calm peaceful beach. You will be placed inside a water world. You will see a large body of water or water moving at a time, in a certain moment. There will be people floating in the water, and some of them may even come from some nearby planets. If you want to get comfortable and begin this visualization, read my previous article, I\\'ll explain it below…\\nThe \"Mountain\" Imagery of the \"Rise from Stone\" (Part 1)\\nBefore beginning, we have to ask ourselves who we are. Who are we to begin the meditation on this beautiful thing? We don\\'t have the power of the universe, yet. And we don\\'t have the ability to become aware of our own thoughts. We are unable to discern what we are experiencing. When we experience things in an imagined or real world that we find appealing, we will try to visualize them as in real life. But we can\\'t imagine these as a reality. We will not see these as real, but as illusions. I\\'ll give you a very small example. A group of visitors come to you, and you have a very beautiful idea for why they came here. They say to you there are mountains that stretch out and flow, and that is beautiful and they don\\'t want others to see them that way. So if there is a Mountain in this world, we will never understand what that means. But a huge Mountain will never stop flowing.\\nThe Mountain of the World at Its Peak (Part 2)\\nThe Mountain in our imagination is one of the many objects we see around us, like a huge mountain. It looks very big or enormous. It comes apart at different distances in different directions. But every point in its perspective is the direction in which our thought is seeing it. So it is not the only thing we know of. But each point in its perspective tells us something about what we are seeing. We can see a Mountain of the World at its Peak, but that is not the only thing we do know. One person is not a Mountain in the world at its Peak. They are floating in the air while floating in a river. One of them, a Mountain in the Mountain of the World at Its Peak, has been in the world\\'s Ocean for a few thousand years. Every river in the world has a River of Mountain in its Sea. And over the years'"
      ]
     },
     "execution_count": 14,
     "metadata": {},
     "output_type": "execute_result"
    }
   ],
   "source": [
    "# Test the base model's performance\n",
    "from transformers import pipeline\n",
    "# Uses the same prompt as above\n",
    "\n",
    "generator = pipeline('text-generation', model='gpt2')\n",
    "output = generator(prompt, max_length=512, num_return_sequences=1)[0]['generated_text']"
   ]
  },
  {
   "cell_type": "markdown",
   "metadata": {},
   "source": [
    "### Below we have one script generated by our model vs one script generated by the base model"
   ]
  },
  {
   "cell_type": "markdown",
   "metadata": {},
   "source": [
    "##### Example Script From Our Model\n",
    "Welcome to this visualization meditation script where you will imagine yourself at a calm peaceful beach. You are sitting in your favorite lounge chair, feeling nice and relaxed in your chair. you are sitting on the lounge chair, with your feet dangling down, arms and hands resting in your lap. It's a nice place to sit and relax. You can sit on the chair next to you- just above your shoulders- or at the side of your chair and let your back form one straight line. Take another deep breath in, feeling nice and relaxed, And let it out. As you begin to breathe out, you are putting one foot in front of the other, one foot out front of your mouth As you breathe in. imagine yourself in a beautiful place with lots of flowers And a nice, old bridge. Imagine the most beautiful place you have ever imagined: a beach, so relaxing, full of possibilities. As you breathe in, imagine your face getting soft- C'more, warmer and very comfortable. Breathe in to that place, noticing how relaxed you are. When you exhale, let all the water slide away, leaving you feeling very comfortable. Now, imagine another place that makes you very happy: a beach that feels very calm and peaceful. Picture yourself there and your friends getting comfy on the beach, having a picnic or a bath in the cozy bath. picture yourself at the beach, being extremely calm and at peace. Now imagine your giant bubble covering the ocean, covering the whole world, and you have a magic balloon. picture it above you. Now put your giant bubble on the balloon and float yourself up to the sky. look at your magic balloon and see how it looks like a giant magic balloon. This magic balloon makes your lots of feelings very happy and wonderfully relaxing. This magic balloon is so strong it is able to float through the air and take away all the stress from your day. Now let yourself go to a peaceful place with the sun shining. imagine yourself sitting in that peaceful place and enjoy your relaxation and see yourself there, soaking in the sun. As you sit there with your friends and your family, soak in the sun's rays And let your thoughts and feelings float away. And take a moment to visualize yourself relaxing at the beautiful beach that you have chosen. it survives deep and still, and you can visualize how your wonderful place looks today."
   ]
  },
  {
   "cell_type": "markdown",
   "metadata": {},
   "source": [
    "##### Example output from the BASE MODEL  \n",
    "Notice how the topic jumps around and the overall text is not really a meditation, but really just explaining random meditation related words. It did not accomplish the task correctly.  \n",
    "\n",
    "Welcome to this visualization meditation script where you will imagine yourself at a calm peaceful beach. It is not meant to be read as anything beyond your normal physiological state of consciousness. This isn\\'t about yourself. I have suggested that there are some physical signs you should see to aid in the development of lucid dreaming.\\n1-3\\n1.1) A pleasant feeling during meditation. This is known as \"high energy\" relaxation.\\n1.2) Feeling relaxing. This is when you feel all of the sensations that cause your conscious being to vibrate and relax. It can be the most exciting or most relaxing experience of your life. It is usually one of the most challenging experiences for the individual as most of this can happen after just a few few minutes. If you are at all familiar with the concept, you have probably experienced a lot after seeing this:\\n1-3\\n3-4\\n1.3) Feeling relaxed. This is when the body feels no pressure or pain, rather rather like your consciousness trying to be normal.\\n1.4) Feeling not too bothered. This is during \"lunar calm.\" This is when the body feels no tension at all. However the body is able to feel it again or you might feel a certain relaxation.\\nThere are a few more sensations on this page:\\n1.5) Slight pressure. The feeling of pressure at the base of the neck or shoulders.\\n1.6) Slight pressure. This feeling of this feeling of relaxation is especially important during the moments when you are on a higher energy level and relaxed. This feeling is often felt at different times when the body is relaxed. At times this feeling may come from outside, other than when you are being in or near the body for about a few minutes and then at a specific time, when you are on a higher energy level, and when the body is still calm. For example:\\n1.7) Slight pressure when you are relaxing with a soft body. This will release the pressure or the tension of your lower abdomen or lower back while relaxing you body.\\n1.8) Slight pressure when you are in a relaxed position. This is a sense of relaxedness that does not create strain and can be especially relaxing for people with less body weight and some feeling of stress during relaxed states. It is also also important during relaxing states to get some peace at any point.\\n1.9)"
   ]
  },
  {
   "cell_type": "markdown",
   "metadata": {},
   "source": []
  }
 ],
 "metadata": {
  "kernelspec": {
   "display_name": "web_scrape",
   "language": "python",
   "name": "python3"
  },
  "language_info": {
   "codemirror_mode": {
    "name": "ipython",
    "version": 3
   },
   "file_extension": ".py",
   "mimetype": "text/x-python",
   "name": "python",
   "nbconvert_exporter": "python",
   "pygments_lexer": "ipython3",
   "version": "3.11.4"
  },
  "orig_nbformat": 4
 },
 "nbformat": 4,
 "nbformat_minor": 2
}
